{
 "cells": [
  {
   "attachments": {},
   "cell_type": "markdown",
   "metadata": {},
   "source": [
    "# Text Summarizer Mini-Project\n",
    "By Matt Favela\n",
    "B.S. Data Science, Chapman University"
   ]
  },
  {
   "attachments": {},
   "cell_type": "markdown",
   "metadata": {},
   "source": [
    "# Project Scope\n",
    "## Project Vision\n",
    "* I commit to a project from start-to-finish\n",
    "* I utilize the T5 transformer to create a text-summarize model\n",
    "* Simple website demo\n",
    "\n",
    "## Project Description\n",
    "### Problem\n",
    "* I can't seem to finish a project due to lack of pre-production planning and motivation\n",
    "* I have a hard time understanding PyTorch and Deep Learning\n",
    "### Target Audience\n",
    "* Anyone that finds this open sourced code helpful\n",
    "* Anyone that wants to summarize text\n",
    "* Myself\n",
    "### Needs\n",
    "* I need a project to add to my portfolio\n",
    "* I need to gain a better understanding of PyTorch and Deep Learning\n",
    "\n",
    "## Goals and My Approach\n",
    "### Goals\n",
    "* Go through the entire process of the project cycle\n",
    "* Understand all the code\n",
    "  * why does this do that?\n",
    "  * what does it do?\n",
    "### My Approach\n",
    "* I will use a transformer to create the model - inspiration from Dr. Michael Campbell\n",
    "* I will evaluate different outcomes by adjusting hyperparameters\n",
    "* Regarding the website goal, I will make that in plain HTML, CSS and JS with a flask server as the backend\n",
    "## Project Acceptance\n",
    "* Some form of transformer is created and utilized to summarize a short sentance\n",
    "* A project reflection is required and I will make sure I reflect on the entire process as well as talk about my thoughts\n",
    "## Project Deliverables\n",
    "* Deep Learning model to summarize text\n",
    "* Demo website - must be able to input a body of text and recieve a summarized result\n",
    "* Comments explaining the code along with descriptive variables\n",
    "## Project Exclusions\n",
    "* I will not be creating the transformer from scratch, instead I will use one such as the T5 transformer and build the model off of that\n",
    "## Project Assumptions\n",
    "* I am assuming that the whole process if completely free to do\n",
    "* I am assuming that I have the cloud computing capabilities to train the model \n",
    "# Budget\n",
    "* $20 to celebrate by treating myself and my girlfriend with a decent fast food meal\n",
    "# Risk Register\n",
    "| Risk / Description  | Likelihood | Severity | Trigger Event | Type | Mitigation|\n",
    "| ----------- | ----------- | ----------- | ----------- | ----------- | ----------- |\n",
    "| File Corruption. | LOW | HIGH | The file storing my code won't open | MITIGATE | To mitigate this, I will do constant commit's to GitHub and backup my files in the cloud. |\n",
    "| Distracted from school on this project. | MED | MED | Once I notice that more items are being added to my homework backlog | MITIGATE | To mitigate this, I will dedicate a minimum of 1 hour a day to this project and a maximum of 2 hours |\n",
    "# References\n",
    "* https://towardsdatascience.com/fine-tuning-a-t5-transformer-for-any-summarization-task-82334c64c81"
   ]
  },
  {
   "attachments": {},
   "cell_type": "markdown",
   "metadata": {},
   "source": [
    "## Importing Libraries"
   ]
  },
  {
   "cell_type": "code",
   "execution_count": 2,
   "metadata": {},
   "outputs": [
    {
     "name": "stderr",
     "output_type": "stream",
     "text": [
      "/home/codespace/.python/current/lib/python3.10/site-packages/tqdm/auto.py:22: TqdmWarning: IProgress not found. Please update jupyter and ipywidgets. See https://ipywidgets.readthedocs.io/en/stable/user_install.html\n",
      "  from .autonotebook import tqdm as notebook_tqdm\n",
      "2023-01-29 16:07:52.175327: I tensorflow/core/platform/cpu_feature_guard.cc:193] This TensorFlow binary is optimized with oneAPI Deep Neural Network Library (oneDNN) to use the following CPU instructions in performance-critical operations:  AVX2 AVX512F FMA\n",
      "To enable them in other operations, rebuild TensorFlow with the appropriate compiler flags.\n",
      "2023-01-29 16:07:54.805414: W tensorflow/compiler/xla/stream_executor/platform/default/dso_loader.cc:64] Could not load dynamic library 'libcudart.so.11.0'; dlerror: libcudart.so.11.0: cannot open shared object file: No such file or directory\n",
      "2023-01-29 16:07:54.817583: I tensorflow/compiler/xla/stream_executor/cuda/cudart_stub.cc:29] Ignore above cudart dlerror if you do not have a GPU set up on your machine.\n",
      "2023-01-29 16:08:01.271636: W tensorflow/compiler/xla/stream_executor/platform/default/dso_loader.cc:64] Could not load dynamic library 'libnvinfer.so.7'; dlerror: libnvinfer.so.7: cannot open shared object file: No such file or directory\n",
      "2023-01-29 16:08:01.271818: W tensorflow/compiler/xla/stream_executor/platform/default/dso_loader.cc:64] Could not load dynamic library 'libnvinfer_plugin.so.7'; dlerror: libnvinfer_plugin.so.7: cannot open shared object file: No such file or directory\n",
      "2023-01-29 16:08:01.271829: W tensorflow/compiler/tf2tensorrt/utils/py_utils.cc:38] TF-TRT Warning: Cannot dlopen some TensorRT libraries. If you would like to use Nvidia GPU with TensorRT, please make sure the missing libraries mentioned above are installed properly.\n"
     ]
    }
   ],
   "source": [
    "#Text summarizer\n",
    "from transformers import T5Tokenizer, T5Model"
   ]
  },
  {
   "cell_type": "code",
   "execution_count": 3,
   "metadata": {},
   "outputs": [
    {
     "ename": "",
     "evalue": "",
     "output_type": "error",
     "traceback": [
      "\u001b[1;31mCanceled future for execute_request message before replies were done"
     ]
    },
    {
     "ename": "",
     "evalue": "",
     "output_type": "error",
     "traceback": [
      "\u001b[1;31mThe Kernel crashed while executing code in the the current cell or a previous cell. Please review the code in the cell(s) to identify a possible cause of the failure. Click <a href='https://aka.ms/vscodeJupyterKernelCrash'>here</a> for more info. View Jupyter <a href='command:jupyter.viewOutput'>log</a> for further details."
     ]
    }
   ],
   "source": [
    "#initialize tokenizer and model from t5 base model and set the model max length\n",
    "\n",
    "tokenizer = T5Tokenizer.from_pretrained('t5-base', model_max_length=512)\n",
    "model = T5Model.from_pretrained('t5-base')"
   ]
  },
  {
   "cell_type": "code",
   "execution_count": null,
   "metadata": {},
   "outputs": [],
   "source": [
    "sampleText = \"Studies have been shown that owning a dog is good for you\""
   ]
  },
  {
   "cell_type": "code",
   "execution_count": null,
   "metadata": {},
   "outputs": [],
   "source": [
    "input_ids = tokenizer(\n",
    "    sampleText, return_tensors=\"pt\"\n",
    ").input_ids"
   ]
  },
  {
   "cell_type": "code",
   "execution_count": null,
   "metadata": {},
   "outputs": [],
   "source": [
    "decoder_input_ids = tokenizer(\"Studies show that\", return_tensors=\"pt\").input_ids"
   ]
  }
 ],
 "metadata": {
  "kernelspec": {
   "display_name": "Python 3",
   "language": "python",
   "name": "python3"
  },
  "language_info": {
   "codemirror_mode": {
    "name": "ipython",
    "version": 3
   },
   "file_extension": ".py",
   "mimetype": "text/x-python",
   "name": "python",
   "nbconvert_exporter": "python",
   "pygments_lexer": "ipython3",
   "version": "3.10.4"
  },
  "orig_nbformat": 4,
  "vscode": {
   "interpreter": {
    "hash": "3ad933181bd8a04b432d3370b9dc3b0662ad032c4dfaa4e4f1596c548f763858"
   }
  }
 },
 "nbformat": 4,
 "nbformat_minor": 2
}
