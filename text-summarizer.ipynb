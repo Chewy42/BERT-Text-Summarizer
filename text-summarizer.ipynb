{
 "cells": [
  {
   "attachments": {},
   "cell_type": "markdown",
   "metadata": {},
   "source": [
    "# Text Summarizer Mini-Project\n",
    "By Matt Favela\n",
    "B.S. Data Science, Chapman University"
   ]
  },
  {
   "attachments": {},
   "cell_type": "markdown",
   "metadata": {},
   "source": [
    "# Project Scope\n",
    "## Project Vision\n",
    "* I commit to a project from start-to-finish\n",
    "* I utilize the T5 transformer to create a text-summarize model\n",
    "* Simple website demo\n",
    "\n",
    "## Project Description\n",
    "### Problem\n",
    "* I can't seem to finish a project due to lack of pre-production planning and motivation\n",
    "* I have a hard time understanding PyTorch and Deep Learning\n",
    "### Target Audience\n",
    "* Anyone that finds this open sourced code helpful\n",
    "* Anyone that wants to summarize text\n",
    "* Myself\n",
    "### Needs\n",
    "* I need a project to add to my portfolio\n",
    "* I need to gain a better understanding of PyTorch and Deep Learning\n",
    "\n",
    "## Goals and My Approach\n",
    "### Goals\n",
    "* Go through the entire process of the project cycle\n",
    "* Understand all the code\n",
    "  * why does this do that?\n",
    "  * what does it do?\n",
    "### My Approach\n",
    "* I will use a transformer to create the model - inspiration from Dr. Michael Campbell\n",
    "* I will evaluate different outcomes by adjusting hyperparameters\n",
    "* Regarding the website goal, I will make that in plain HTML, CSS and JS with a flask server as the backend\n",
    "## Project Acceptance\n",
    "* Some form of transformer is created and utilized to summarize a short sentance\n",
    "* A project reflection is required and I will make sure I reflect on the entire process as well as talk about my thoughts\n",
    "## Project Deliverables\n",
    "* Deep Learning model to summarize text\n",
    "* Demo website - must be able to input a body of text and recieve a summarized result\n",
    "* Comments explaining the code along with descriptive variables\n",
    "## Project Exclusions\n",
    "* I will not be creating the transformer from scratch, instead I will use one such as the T5 transformer and build the model off of that\n",
    "## Project Assumptions\n",
    "* I am assuming that the whole process if completely free to do\n",
    "* I am assuming that I have the cloud computing capabilities to train the model \n",
    "# Budget\n",
    "* $20 to celebrate by treating myself and my girlfriend with a decent fast food meal\n",
    "# Risk Register\n",
    "| Risk / Description  | Likelihood | Severity | Trigger Event | Type | Mitigation|\n",
    "| ----------- | ----------- | ----------- | ----------- | ----------- | ----------- |\n",
    "| File Corruption. | LOW | HIGH | The file storing my code won't open | MITIGATE | To mitigate this, I will do constant commit's to GitHub and backup my files in the cloud. |\n",
    "| Distracted from school on this project. | MED | MED | Once I notice that more items are being added to my homework backlog | MITIGATE | To mitigate this, I will dedicate a minimum of 1 hour a day to this project and a maximum of 2 hours |\n",
    "# References\n",
    "* "
   ]
  },
  {
   "cell_type": "code",
   "execution_count": null,
   "metadata": {},
   "outputs": [],
   "source": []
  }
 ],
 "metadata": {
  "kernelspec": {
   "display_name": "Python 3",
   "language": "python",
   "name": "python3"
  },
  "language_info": {
   "name": "python",
   "version": "3.10.4 (main, Jan 18 2023, 00:26:41) [GCC 9.4.0]"
  },
  "orig_nbformat": 4,
  "vscode": {
   "interpreter": {
    "hash": "3ad933181bd8a04b432d3370b9dc3b0662ad032c4dfaa4e4f1596c548f763858"
   }
  }
 },
 "nbformat": 4,
 "nbformat_minor": 2
}
