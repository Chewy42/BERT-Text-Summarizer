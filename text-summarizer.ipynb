{
 "cells": [
  {
   "attachments": {},
   "cell_type": "markdown",
   "metadata": {},
   "source": [
    "# Text Summarizer Mini-Project\n",
    "By Matt Favela\n",
    "B.S. Data Science, Chapman University"
   ]
  },
  {
   "attachments": {},
   "cell_type": "markdown",
   "metadata": {},
   "source": [
    "# Project Scope\n",
    "\n",
    "### Project Vision\n",
    "• I commit to a project from start-to-finish\n",
    "• I build a Deep Learning model that summarizes text\n",
    "\n",
    "### Project Description\n",
    "• Problem\n",
    "    • I can't seem to finish a project due to lack of pre-production planning and motivation\n",
    "    • I have a hard time understanding PyTorch and Deep Learning\n",
    "• Target Audience\n",
    "    • Anyone that finds this open sourced code helpful\n",
    "    • Myself\n",
    "• Needs\n",
    "    • "
   ]
  },
  {
   "cell_type": "code",
   "execution_count": null,
   "metadata": {},
   "outputs": [],
   "source": []
  }
 ],
 "metadata": {
  "kernelspec": {
   "display_name": "Python 3",
   "language": "python",
   "name": "python3"
  },
  "language_info": {
   "name": "python",
   "version": "3.10.4 (main, Jan 18 2023, 00:26:41) [GCC 9.4.0]"
  },
  "orig_nbformat": 4,
  "vscode": {
   "interpreter": {
    "hash": "3ad933181bd8a04b432d3370b9dc3b0662ad032c4dfaa4e4f1596c548f763858"
   }
  }
 },
 "nbformat": 4,
 "nbformat_minor": 2
}
